{
 "cells": [
  {
   "cell_type": "code",
   "execution_count": 1,
   "metadata": {},
   "outputs": [],
   "source": [
    "from bs4 import BeautifulSoup as bs\n",
    "from splinter import Browser\n",
    "import pandas as pd\n",
    "import time"
   ]
  },
  {
   "cell_type": "code",
   "execution_count": 2,
   "metadata": {},
   "outputs": [],
   "source": [
    "#create browser instance\n",
    "executable_path = {\"executable_path\":\"/usr/local/bin/chromedriver\"}\n",
    "browser = Browser(\"chrome\", **executable_path, headless=False)"
   ]
  },
  {
   "cell_type": "code",
   "execution_count": 3,
   "metadata": {},
   "outputs": [],
   "source": [
    "# extract nasa mars news\n",
    "url = \"https://mars.nasa.gov/news/\"\n",
    "# new in ul element/ class \"item_list \"\n",
    "browser.visit(url)\n",
    "time.sleep(1)\n",
    "soup = bs(browser.html, \"lxml\")\n",
    "articles = soup.find(\"ul\", class_=\"item_list\")\n",
    "recent_news = articles.find(\"div\", class_=\"content_title\")\n",
    "teaser = articles.find(\"div\", class_=\"article_teaser_body\")\n",
    "news_title = recent_news.text\n",
    "news_p = teaser.text"
   ]
  },
  {
   "cell_type": "code",
   "execution_count": 4,
   "metadata": {},
   "outputs": [],
   "source": [
    "# scrape jpl featured image\n",
    "# update url\n",
    "url = \"https://www.jpl.nasa.gov/spaceimages/?search=&category=Mars\"\n",
    "browser.visit(url)\n",
    "time.sleep(1)\n",
    "soup = bs(browser.html, \"lxml\")\n",
    "# direct towards full image reel\n",
    "browser.click_link_by_partial_text('FULL IMAGE')\n",
    "time.sleep(3)\n",
    "browser.click_link_by_partial_href('/spaceimages/details.php')\n",
    "time.sleep(1)\n",
    "# instead of using beautiful soup, fully direct to photojournal and get url, i.e. raw image, instead of large image\n",
    "# on second page\n",
    "browser.click_link_by_partial_text('.jpg')\n",
    "featured_image_url = browser.url"
   ]
  },
  {
   "cell_type": "code",
   "execution_count": 5,
   "metadata": {},
   "outputs": [],
   "source": [
    "# next up, mars weather on twitter\n",
    "url = \"https://twitter.com/marswxreport?lang=en\"\n",
    "browser.visit(url)\n",
    "time.sleep(1)\n",
    "soup = bs(browser.html, \"lxml\")\n",
    "#find latest tweet\n",
    "newest_tweet = soup.find(\"div\", class_=\"js-tweet-text-container\")\n",
    "# isolate text and format\n",
    "newest_tweet = newest_tweet.find(\"p\").text\n",
    "new_isol = newest_tweet[newest_tweet.find(\"sol\"):newest_tweet.rfind(\"hPa\") + 3]\n",
    "mars_weather = new_isol.replace(\"\\n\", \" \").capitalize()"
   ]
  },
  {
   "cell_type": "code",
   "execution_count": 6,
   "metadata": {},
   "outputs": [],
   "source": [
    "# time to get some fun facts using pandas\n",
    "url = \"https://space-facts.com/mars/\"\n",
    "table = pd.read_html(url)[1]\n",
    "table = table.rename(columns= {0:\"\",1:\"value\" })\n",
    "table = table.to_html(index= False)"
   ]
  },
  {
   "cell_type": "code",
   "execution_count": 7,
   "metadata": {},
   "outputs": [],
   "source": [
    "# scrap hemisphere images\n",
    "url = \"https://astrogeology.usgs.gov/search/results?q=hemisphere+enhanced&k1=target&v1=Mars\"\n",
    "browser.visit(url)\n",
    "time.sleep(1)\n",
    "soup = bs(browser.html, \"lxml\")\n",
    "# use splinter to navigate every image\n",
    "hemispheres = soup.find(\"div\", class_=\"collapsible results\")\n",
    "hemispheres = hemispheres.find_all(\"div\", class_=\"description\")\n",
    "# set-up empty list for urls of images, and names of hemispheres\n",
    "hemisphere_image_urls =[]\n",
    "# find hrefs via soup\n",
    "# need to click href, get url, then go back\n",
    "for section in hemispheres:\n",
    "    temp = {}\n",
    "    title = section.find(\"a\").text\n",
    "    browser.click_link_by_partial_text(title)\n",
    "    time.sleep(1)\n",
    "    # fill\n",
    "    soup = bs(browser.html, \"lxml\")\n",
    "    downloads = soup.find(\"div\", class_=\"downloads\")\n",
    "    link = downloads.find(\"a\")[\"href\"]\n",
    "    temp[\"title\"] = title[:-9]\n",
    "    temp[\"img_url\"] = link\n",
    "    hemisphere_image_urls.append(temp)\n",
    "    # fill\n",
    "    browser.back()\n",
    "    time.sleep(1)"
   ]
  },
  {
   "cell_type": "code",
   "execution_count": null,
   "metadata": {},
   "outputs": [],
   "source": []
  },
  {
   "cell_type": "code",
   "execution_count": null,
   "metadata": {},
   "outputs": [],
   "source": []
  }
 ],
 "metadata": {
  "kernelspec": {
   "display_name": "Python 3",
   "language": "python",
   "name": "python3"
  },
  "language_info": {
   "codemirror_mode": {
    "name": "ipython",
    "version": 3
   },
   "file_extension": ".py",
   "mimetype": "text/x-python",
   "name": "python",
   "nbconvert_exporter": "python",
   "pygments_lexer": "ipython3",
   "version": "3.7.3"
  }
 },
 "nbformat": 4,
 "nbformat_minor": 2
}
